{
 "cells": [
  {
   "cell_type": "code",
   "execution_count": null,
   "id": "d1882d6f",
   "metadata": {},
   "outputs": [],
   "source": [
    "# To install :\n",
    "# pip install uvicorn\n",
    "# pip install fastapi\n",
    "# pip install python-multipart\n",
    "# pip install Pillow\n",
    "\n",
    "# To run: uvicorn BackEnd:app --host 0.0.0.0 --port 8000\n",
    "\n",
    "import pickle\n",
    "from fastapi import FastAPI, UploadFile, File\n",
    "from fastapi.responses import JSONResponse\n",
    "from PIL import Image\n",
    "import numpy as np\n",
    "from io import BytesIO\n",
    "\n",
    "app = FastAPI()\n",
    "\n",
    "# Load the trained model from the pickle file\n",
    "with open('Final-KNN.pkl', 'rb') as model_file:\n",
    "    clf = pickle.load(model_file)\n",
    "\n",
    "def process_image(image):\n",
    "    # Open the uploaded image using Pillow (PIL)\n",
    "    img = Image.open(image)\n",
    "    \n",
    "    # Resize and convert to grayscale (if not already)\n",
    "    img = img.resize((28, 28)).convert('L')\n",
    "    \n",
    "    # Convert to a NumPy array\n",
    "    img_array = np.array(img).flatten()  # Flatten to match the model input shape\n",
    "    \n",
    "    # Standardize the data\n",
    "    img_array = (img_array - np.mean(img_array)) / np.std(img_array)\n",
    "    \n",
    "    return img_array\n",
    "\n",
    "@app.post(\"/predict/\")\n",
    "async def predict_disorder(file: UploadFile):\n",
    "    try:\n",
    "        img_array = process_image(BytesIO(await file.read()))\n",
    "        prediction = clf.predict([img_array])[0]\n",
    "        return JSONResponse(content={\"class\": prediction}, status_code=200)\n",
    "    except Exception as e:\n",
    "        return JSONResponse(content={\"error\": str(e)}, status_code=500)"
   ]
  }
 ],
 "metadata": {
  "kernelspec": {
   "display_name": "Python 3 (ipykernel)",
   "language": "python",
   "name": "python3"
  },
  "language_info": {
   "codemirror_mode": {
    "name": "ipython",
    "version": 3
   },
   "file_extension": ".py",
   "mimetype": "text/x-python",
   "name": "python",
   "nbconvert_exporter": "python",
   "pygments_lexer": "ipython3",
   "version": "3.11.5"
  }
 },
 "nbformat": 4,
 "nbformat_minor": 5
}
