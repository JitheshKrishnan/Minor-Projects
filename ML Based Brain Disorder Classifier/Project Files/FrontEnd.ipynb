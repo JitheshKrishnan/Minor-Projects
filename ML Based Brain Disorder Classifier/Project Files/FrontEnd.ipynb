{
 "cells": [
  {
   "cell_type": "code",
   "execution_count": 1,
   "id": "ad9be67a",
   "metadata": {
    "scrolled": false
   },
   "outputs": [],
   "source": [
    "#pip install streamlit"
   ]
  },
  {
   "cell_type": "code",
   "execution_count": 2,
   "id": "67875422",
   "metadata": {},
   "outputs": [
    {
     "name": "stderr",
     "output_type": "stream",
     "text": [
      "2023-11-03 14:03:08.445 \n",
      "  \u001b[33m\u001b[1mWarning:\u001b[0m to view this Streamlit app on a browser, run it with the following\n",
      "  command:\n",
      "\n",
      "    streamlit run C:\\Users\\Radhakrishnan P\\anaconda3\\lib\\site-packages\\ipykernel_launcher.py [ARGUMENTS]\n"
     ]
    }
   ],
   "source": [
    "# To install; pip install streamlit\n",
    "# To run:  streamlit run frontend.py\n",
    "\n",
    "import streamlit as st\n",
    "import requests\n",
    "\n",
    "st.title(\"Brain MRI Image Classifier\")\n",
    "\n",
    "uploaded_file = st.file_uploader(\"Upload a digit image...\", type=[\"jpg\"])\n",
    "\n",
    "if uploaded_file:\n",
    "    st.image(uploaded_file, caption=\"Uploaded Image\", use_column_width=True)\n",
    "    if st.button(\"Classify\"):\n",
    "        response = requests.post(\"http://localhost:8000/predict/\", files={\"file\": uploaded_file})\n",
    "        if response.status_code == 200:\n",
    "            data = response.json()\n",
    "            st.write(f\"Predicted Class: {data['class']}\")\n",
    "        else:\n",
    "            st.error(\"Failed to classify the image. Please try again.\")"
   ]
  },
  {
   "cell_type": "code",
   "execution_count": null,
   "id": "ee455474",
   "metadata": {},
   "outputs": [],
   "source": []
  }
 ],
 "metadata": {
  "kernelspec": {
   "display_name": "Python 3 (ipykernel)",
   "language": "python",
   "name": "python3"
  },
  "language_info": {
   "codemirror_mode": {
    "name": "ipython",
    "version": 3
   },
   "file_extension": ".py",
   "mimetype": "text/x-python",
   "name": "python",
   "nbconvert_exporter": "python",
   "pygments_lexer": "ipython3",
   "version": "3.11.5"
  }
 },
 "nbformat": 4,
 "nbformat_minor": 5
}
