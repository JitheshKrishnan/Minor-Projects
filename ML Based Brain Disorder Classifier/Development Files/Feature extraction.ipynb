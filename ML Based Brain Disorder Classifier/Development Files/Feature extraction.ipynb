{
 "cells": [
  {
   "cell_type": "code",
   "execution_count": 11,
   "id": "9a4e5ed2",
   "metadata": {},
   "outputs": [
    {
     "name": "stderr",
     "output_type": "stream",
     "text": [
      "C:\\Users\\Radhakrishnan P\\AppData\\Local\\Temp\\ipykernel_14104\\2066900118.py:26: FutureWarning: Unlike other reduction functions (e.g. `skew`, `kurtosis`), the default behavior of `mode` typically preserves the axis it acts along. In SciPy 1.11.0, this behavior will change: the default value of `keepdims` will become False, the `axis` over which the statistic is taken will be eliminated, and the value None will no longer be accepted. Set `keepdims` to True or False to avoid this warning.\n",
      "  float(stats.mode(img, axis=None)[0]),  # Mode calculation\n"
     ]
    }
   ],
   "source": [
    "import os\n",
    "import cv2\n",
    "import numpy as np\n",
    "import pandas as pd\n",
    "from scipy import stats  # Import scipy's stats module for mode calculation\n",
    "\n",
    "# Set the path to the folder containing preprocessed images\n",
    "Path = r'C:\\Users\\Radhakrishnan P\\Downloads\\archive (8)\\Testing\\glioma'\n",
    "\n",
    "# Get a list of all preprocessed image files in the folder\n",
    "preprocessedImageFiles = [f for f in os.listdir(Path) if f.endswith('.jpg')]\n",
    "\n",
    "# Initialize an array to store extracted features\n",
    "features = []\n",
    "\n",
    "# Loop through each preprocessed image file\n",
    "for imageFileName in preprocessedImageFiles:\n",
    "    # Read the preprocessed image\n",
    "    imagePath = os.path.join(Path, imageFileName)\n",
    "    img = cv2.imread(imagePath, cv2.IMREAD_GRAYSCALE)  # Load as grayscale\n",
    "    \n",
    "    # Extract features from the image (mean, median, mode, standard deviation, skewness, and kurtosis)\n",
    "    featureVector = [\n",
    "        np.mean(img),\n",
    "        np.median(img),\n",
    "        float(stats.mode(img, axis=None)[0]),  # Mode calculation\n",
    "        np.std(img),\n",
    "        np.nan_to_num(np.float64(stats.skew(img.flatten()))),\n",
    "        np.nan_to_num(np.float64(stats.kurtosis(img.flatten())))\n",
    "    ]\n",
    "    \n",
    "    # Append the feature vector to the features array\n",
    "    features.append(featureVector)\n",
    "\n",
    "# Define the header for the CSV file\n",
    "header = ['Mean', 'Median', 'Mode', 'StandardDeviation', 'Skewness', 'Kurtosis']  # Update with your actual feature names\n",
    "\n",
    "# Specify the filename for the CSV file\n",
    "csvFilename = 'Glioma(Test).csv'\n",
    "\n",
    "# Write the features to a Pandas DataFrame\n",
    "features_df = pd.DataFrame(features, columns=header)\n",
    "\n",
    "# Save the DataFrame to a CSV file\n",
    "csvPath = os.path.join(Path, csvFilename)"
   ]
  },
  {
   "cell_type": "code",
   "execution_count": 12,
   "id": "e73ce4a9",
   "metadata": {},
   "outputs": [
    {
     "name": "stdout",
     "output_type": "stream",
     "text": [
      "          Mean  Median  Mode  StandardDeviation  Skewness  Kurtosis\n",
      "0    30.513634     6.0   0.0          39.602723  1.290082  1.244845\n",
      "1    23.499611     3.0   0.0          31.120606  1.325264  1.432121\n",
      "2    17.359077     2.0   0.0          25.487901  1.615982  3.005739\n",
      "3    31.820053     5.0   0.0          44.951605  1.506519  1.595104\n",
      "4    25.002510     4.0   0.0          32.717615  1.235010  0.913386\n",
      "..         ...     ...   ...                ...       ...       ...\n",
      "295  26.288933     4.0   0.0          37.493148  1.374213  0.987634\n",
      "296  26.575390     2.0   0.0          36.764815  1.352844  1.651926\n",
      "297  24.149101     2.0   0.0          38.266806  1.648782  2.213791\n",
      "298  29.126751     5.0   0.0          36.335492  1.357619  2.293800\n",
      "299  30.113461     4.0   0.0          41.733671  1.357189  1.055845\n",
      "\n",
      "[300 rows x 6 columns]\n"
     ]
    }
   ],
   "source": [
    "print(features_df)"
   ]
  },
  {
   "cell_type": "code",
   "execution_count": 13,
   "id": "6c0a2fb3",
   "metadata": {},
   "outputs": [],
   "source": [
    "features_df.to_csv(csvPath, index=False)"
   ]
  },
  {
   "cell_type": "code",
   "execution_count": null,
   "id": "34718c38",
   "metadata": {},
   "outputs": [],
   "source": []
  }
 ],
 "metadata": {
  "kernelspec": {
   "display_name": "Python 3 (ipykernel)",
   "language": "python",
   "name": "python3"
  },
  "language_info": {
   "codemirror_mode": {
    "name": "ipython",
    "version": 3
   },
   "file_extension": ".py",
   "mimetype": "text/x-python",
   "name": "python",
   "nbconvert_exporter": "python",
   "pygments_lexer": "ipython3",
   "version": "3.11.5"
  }
 },
 "nbformat": 4,
 "nbformat_minor": 5
}
